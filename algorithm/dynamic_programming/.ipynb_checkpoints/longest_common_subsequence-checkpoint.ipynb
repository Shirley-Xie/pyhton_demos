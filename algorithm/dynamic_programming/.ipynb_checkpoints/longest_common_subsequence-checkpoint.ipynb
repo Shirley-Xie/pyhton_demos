{
 "cells": [
  {
   "cell_type": "code",
   "execution_count": 34,
   "metadata": {},
   "outputs": [
    {
     "name": "stdout",
     "output_type": "stream",
     "text": [
      "(2, ['a', 'b', 'c', 'd'])\n"
     ]
    }
   ],
   "source": [
    "\"\"\"\n",
    "LCS Problem Statement: Given two sequences, find the length of longest subsequence present in both of them.\n",
    "A subsequence is a sequence that appears in the same relative order, but not necessarily continious.\n",
    "Example:\"abc\", \"abg\" are subsequences of \"abcdefgh\".\n",
    "\"\"\"\n",
    "from __future__ import print_function\n",
    "\n",
    "try:\n",
    "    xrange          # Python 2\n",
    "except NameError:\n",
    "    xrange = range  # Python 3\n",
    "\n",
    "def lcs_dp(x, y):\n",
    "    # find the length of strings\n",
    "    m = len(x)\n",
    "    n = len(y)\n",
    "\n",
    "    # declaring the array for storing the dp values\n",
    "    L = [[None] * (n + 1) for i in xrange(m + 1)]\n",
    "    seq = []\n",
    "\n",
    "    for i in range(m + 1):\n",
    "        for j in range(n + 1):\n",
    "            if i == 0 or j == 0:\n",
    "                L[i][j] = 0\n",
    "            elif x[i - 1] == y[ j - 1]:\n",
    "                L[i][j] = L[i - 1][j - 1] + 1\n",
    "                # 这里不对\n",
    "                seq.append(x[i -1])\n",
    "            else:\n",
    "                L[i][j] = max(L[i - 1][j], L[i][j - 1])\n",
    "    # L[m][n] contains the length of LCS of X[0..n-1] & Y[0..m-1]\n",
    "    return L[m][n], seq\n",
    "\n",
    "#     x = 'AGGTAB'\n",
    "#     y = 'GXTXAYB'\n",
    "x = 'abcd'\n",
    "y = 'bdca'\n",
    "print(lcs_dp(x, y))"
   ]
  }
 ],
 "metadata": {
  "kernelspec": {
   "display_name": "Python 3",
   "language": "python",
   "name": "python3"
  },
  "language_info": {
   "codemirror_mode": {
    "name": "ipython",
    "version": 3
   },
   "file_extension": ".py",
   "mimetype": "text/x-python",
   "name": "python",
   "nbconvert_exporter": "python",
   "pygments_lexer": "ipython3",
   "version": "3.7.3"
  }
 },
 "nbformat": 4,
 "nbformat_minor": 2
}
