{
 "cells": [
  {
   "cell_type": "markdown",
   "metadata": {},
   "source": [
    "# 并查集\n",
    "只关注收否联通，不关注如何连通，采用压缩树查找根结点。\n",
    "（树和森林）https://blog.csdn.net/liujian20150808/article/details/50848646\n",
    "\n",
    "\n",
    "    union(S,root1,root2)：两个集合互不相交，否则不执行合并\n",
    "    find(S,x):查找集合的的名字\n",
    "    initial（S）:将集合的每个元素初始化为一个单元集合的名字\n",
    "    "
   ]
  },
  {
   "cell_type": "markdown",
   "metadata": {},
   "source": [
    "# 547. Friend Circles\n",
    "    若是朋友则行朋友和列朋友是1\n",
    "    Input: \n",
    "    [[1,1,0],\n",
    "     [1,1,0],\n",
    "     [0,0,1]]\n",
    "    Output: 2\n",
    "    0和1是朋友，1和2不是。则是2个朋友圈返回2"
   ]
  },
  {
   "cell_type": "code",
   "execution_count": 2,
   "metadata": {},
   "outputs": [
    {
     "name": "stdout",
     "output_type": "stream",
     "text": [
      "2\n"
     ]
    }
   ],
   "source": [
    "class Solution:\n",
    "    def findCircleNum(self, M) -> int:\n",
    "        n = len(M)\n",
    "        union = [i for i in range(n)]\n",
    "\n",
    "        def find(x):\n",
    "            if union[x] != x:\n",
    "                union[x] = find(union[x])\n",
    "            return union[x]\n",
    "\n",
    "        def unite(x, y):\n",
    "            union[find(y)] = find(x)\n",
    "            \n",
    "        for i in range(n):\n",
    "            for j in range(i+1, n):\n",
    "                if M[i][j]:\n",
    "                    unite(i,j)\n",
    "                    \n",
    "        for i in range(n):\n",
    "            union[i] = find(i)\n",
    "            \n",
    "        return len(set(union))\n",
    "    \n",
    "inputs=[[1,1,0],\n",
    " [1,1,0],\n",
    " [0,0,1]]   \n",
    "a = Solution()\n",
    "print(a.findCircleNum(inputs))"
   ]
  }
 ],
 "metadata": {
  "kernelspec": {
   "display_name": "Python 3",
   "language": "python",
   "name": "python3"
  },
  "language_info": {
   "codemirror_mode": {
    "name": "ipython",
    "version": 3
   },
   "file_extension": ".py",
   "mimetype": "text/x-python",
   "name": "python",
   "nbconvert_exporter": "python",
   "pygments_lexer": "ipython3",
   "version": "3.7.3"
  }
 },
 "nbformat": 4,
 "nbformat_minor": 2
}
